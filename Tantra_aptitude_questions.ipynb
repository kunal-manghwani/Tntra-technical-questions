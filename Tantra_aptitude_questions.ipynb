{
  "nbformat": 4,
  "nbformat_minor": 0,
  "metadata": {
    "colab": {
      "provenance": []
    },
    "kernelspec": {
      "name": "python3",
      "display_name": "Python 3"
    },
    "language_info": {
      "name": "python"
    }
  },
  "cells": [
    {
      "cell_type": "code",
      "execution_count": 29,
      "metadata": {
        "colab": {
          "base_uri": "https://localhost:8080/"
        },
        "id": "WND0UwuTl-8K",
        "outputId": "17d20ec4-db21-409d-c70a-b85a565b3f7c"
      },
      "outputs": [
        {
          "output_type": "stream",
          "name": "stdout",
          "text": [
            "count of e :\n",
            " 4\n",
            "count of 3 : \n",
            " 0\n"
          ]
        }
      ],
      "source": [
        "\n",
        "#Problem 1: Program to count occurrences of a given character in a string.\n",
        "\n",
        "\n",
        "\n",
        "string1 = \"geeksforgeeks\"\n",
        "string2 = \"abccdefgaa.\"\n",
        "print(\"count of e :\\n\",string1.count(\"e\"))\n",
        "print(\"count of 3 : \\n\",string2.count(\"3\"))"
      ]
    },
    {
      "cell_type": "code",
      "source": [
        "# Problem 2:  Determine whether a given string is Palindrome\n",
        "\n",
        "\n",
        "string1 = \"anna\"\n",
        "string2 = \"India\"\n",
        "\n",
        "\n",
        "#For string1\n",
        "a = string1[-1::-1]\n",
        "\n",
        "if (a==string1):\n",
        "  print(\"True\")\n",
        "else:\n",
        "  print(\"False\")\n",
        "\n",
        "#For string2\n",
        "\n",
        "b = string2[-1::-1]\n",
        "\n",
        "\n",
        "if (b==string2):\n",
        "  print(\"True\")\n",
        "else:\n",
        "  print(\"False\")\n",
        "\n",
        "\n",
        "\n"
      ],
      "metadata": {
        "colab": {
          "base_uri": "https://localhost:8080/"
        },
        "id": "BNbFh6kpqnpU",
        "outputId": "0313b499-292d-4ba0-d29c-00add2f4185b"
      },
      "execution_count": 30,
      "outputs": [
        {
          "output_type": "stream",
          "name": "stdout",
          "text": [
            "True\n",
            "False\n"
          ]
        }
      ]
    },
    {
      "cell_type": "code",
      "source": [
        "#Problem 3:  Biggest and smallest number in an array\n",
        "\n",
        "\n",
        "\n",
        "\n",
        "arr1 = [1, 2, 3, 4, 5]\n",
        "arr2 = [5, 3, 7, 4, 2]\n",
        "\n",
        "print(\"Output for 1st array\\n\")\n",
        "print(\"maximum is: \\n\",max(arr1))\n",
        "print(\"minimum is: \\n\",min(arr1))\n",
        "\n",
        "print(\"--------------------------------\")\n",
        "print(\"Output for 2nd  array\\n\")\n",
        "\n",
        "print(\"maximum is: \\n\",max(arr2))\n",
        "print(\"minimum is: \\n\",min(arr1))"
      ],
      "metadata": {
        "colab": {
          "base_uri": "https://localhost:8080/"
        },
        "id": "F8TXafb2u-Nb",
        "outputId": "a9830eb2-fc25-4b96-b35b-e6bd18a30e7f"
      },
      "execution_count": 31,
      "outputs": [
        {
          "output_type": "stream",
          "name": "stdout",
          "text": [
            "Output for 1st array\n",
            "\n",
            "maximum is: \n",
            " 5\n",
            "minimum is: \n",
            " 1\n",
            "--------------------------------\n",
            "Output for 2nd  array\n",
            "\n",
            "maximum is: \n",
            " 7\n",
            "minimum is: \n",
            " 1\n"
          ]
        }
      ]
    },
    {
      "cell_type": "code",
      "source": [
        "#Problem 4:  Swap two Strings Without Using any Third Variable\n",
        "\n",
        "\n",
        "a = \"hello\"\n",
        "b = \"world\"\n",
        "a,b = b,a\n",
        "\n",
        "\n",
        "print(a)\n",
        "print(b)"
      ],
      "metadata": {
        "colab": {
          "base_uri": "https://localhost:8080/"
        },
        "id": "dUoM3DbQw7WV",
        "outputId": "b1517ca8-2161-48f8-abdf-9e59ba522ce4"
      },
      "execution_count": 32,
      "outputs": [
        {
          "output_type": "stream",
          "name": "stdout",
          "text": [
            "world\n",
            "hello\n"
          ]
        }
      ]
    },
    {
      "cell_type": "code",
      "source": [
        "#Problem 5: Swap two numbers without using a temporary variable\n",
        "\n",
        "\n",
        "a = 10\n",
        "b = 50\n",
        "a,b = b,a\n",
        "\n",
        "print(a)\n",
        "print(b)\n",
        "\n"
      ],
      "metadata": {
        "colab": {
          "base_uri": "https://localhost:8080/"
        },
        "id": "9K1gERBj2Zhv",
        "outputId": "3e0f833a-2076-41f2-b697-c8a0a7406e80"
      },
      "execution_count": 33,
      "outputs": [
        {
          "output_type": "stream",
          "name": "stdout",
          "text": [
            "50\n",
            "10\n"
          ]
        }
      ]
    }
  ]
}